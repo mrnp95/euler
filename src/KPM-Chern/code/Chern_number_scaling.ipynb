{
 "cells": [
  {
   "cell_type": "markdown",
   "metadata": {},
   "source": [
    "## Chern number scaling\n",
    "\n",
    "We analyze the scaling of the stochastic trace scaling with varying correlation length and the system size together. We use the k.p model of a simple 2-band Chern insulator without disorder, and discretize it with different lattice constants. This corresponds to the same low-energy Hamiltonian, but varying the length scale of the underlying lattice."
   ]
  },
  {
   "cell_type": "code",
   "execution_count": null,
   "metadata": {},
   "outputs": [],
   "source": [
    "from matplotlib import pyplot as plt\n",
    "import kwant\n",
    "import tinyarray as ta\n",
    "import warnings\n",
    "import numpy as np\n",
    "import itertools\n",
    "import kpm_funcs\n",
    "import scipy.linalg as la\n",
    "import kwant.continuum\n",
    "import pickle"
   ]
  },
  {
   "cell_type": "code",
   "execution_count": null,
   "metadata": {},
   "outputs": [],
   "source": [
    "def build_cont_system(a, L=10):\n",
    "    ham = '(m + t1 * (k_x**2 + k_y**2)) * sigma_z + t2 * (k_x * sigma_x + k_y * sigma_y)'\n",
    "    syst = kwant.continuum.discretize(ham, grid=a)\n",
    "    fsyst = kwant.Builder()\n",
    "    shape = lambda site: all([-L/2 < x <= L/2 for x in site.pos])\n",
    "    fsyst.fill(syst, shape, (0, 0))\n",
    "    return fsyst.finalized()"
   ]
  },
  {
   "cell_type": "markdown",
   "metadata": {},
   "source": [
    "### Projector matrix element scaling"
   ]
  },
  {
   "cell_type": "code",
   "execution_count": null,
   "metadata": {},
   "outputs": [],
   "source": [
    "def local_vector(syst, tag, polarization=None):\n",
    "    if polarization is None:\n",
    "        polarization = np.ones((syst.sites[0].family.norbs))\n",
    "    polarization = np.array(polarization)\n",
    "    return np.concatenate([(1 if s.tag == tag else 0) * polarization for s in syst.sites])\n",
    "\n",
    "def proj_matrix_elements(syst, params=dict(), kpm_params=None, e_F=0, proj_center=None, polarization1=None, polarization2=None, sum=True):\n",
    "    if kpm_params is None:\n",
    "        kpm_params = dict(num_moments=150)\n",
    "    if polarization1 is None:\n",
    "        polarization1 = np.eye(syst.sites[0].family.norbs)\n",
    "    if polarization2 is None:\n",
    "        polarization2 = np.eye(syst.sites[0].family.norbs)\n",
    "    if proj_center is None:\n",
    "        ham = syst.hamiltonian_submatrix(params=params, sparse=True)\n",
    "        center_vecs = np.array([local_vector(syst, (0, 0), polarization) for polarization in polarization1])\n",
    "        proj_center = kpm_funcs.projector(ham, center_vecs.T, kpm_params=kpm_params, e_F=e_F).T\n",
    "\n",
    "    xs = np.unique([site.tag[0] for site in syst.sites])\n",
    "    \n",
    "    mx_elements = np.array([proj_center.conj() @ np.array([local_vector(syst, (x, 0), polarization) for polarization in polarization1]).T for x in xs])\n",
    "    if sum:\n",
    "        overlaps = np.sum(np.abs(mx_elements), (1, 2))\n",
    "    else:\n",
    "        overlaps = np.array(mx_elements)\n",
    "        \n",
    "    xs = np.unique([site.pos[0] for site in syst.sites])\n",
    "    return xs, overlaps"
   ]
  },
  {
   "cell_type": "code",
   "execution_count": null,
   "metadata": {},
   "outputs": [],
   "source": [
    "%%time\n",
    "# Takes about 10 minutes\n",
    "params = dict(m=-1, t1=1, t2=1)\n",
    "kpm_params = dict(num_moments=2000)\n",
    "\n",
    "res = []\n",
    "L = 40\n",
    "a_array = np.array([1, 0.5, 0.2, 0.1])\n",
    "\n",
    "for a in a_array:\n",
    "    print(a)\n",
    "    syst = build_cont_system(a, L=L)\n",
    "    xs, overlaps = proj_matrix_elements(syst, params, e_F=0, kpm_params=kpm_params)\n",
    "    res.append([xs, overlaps])"
   ]
  },
  {
   "cell_type": "code",
   "execution_count": null,
   "metadata": {},
   "outputs": [],
   "source": [
    "for xs, overlaps in res:\n",
    "    plt.plot(xs, np.log(np.abs(overlaps)))\n",
    "plt.legend(a_array)"
   ]
  },
  {
   "cell_type": "markdown",
   "metadata": {},
   "source": [
    "### Chern operator matrix element scaling"
   ]
  },
  {
   "cell_type": "code",
   "execution_count": null,
   "metadata": {},
   "outputs": [],
   "source": [
    "import functools as ft\n",
    "from kpm_funcs import projector\n",
    "\n",
    "def make_xy_op(syst, pos_transform=None):\n",
    "    if pos_transform is None:\n",
    "        pos_transform = lambda x: x\n",
    "\n",
    "    params = dict()\n",
    "    x_op = kwant.operator.Density(syst, onsite=lambda site: pos_transform(site.pos)[0] * np.eye(site.family.norbs))\n",
    "    x_op = x_op.bind(params=params)\n",
    "    y_op = kwant.operator.Density(syst, onsite=lambda site: pos_transform(site.pos)[1] * np.eye(site.family.norbs))\n",
    "    y_op = y_op.bind(params=params)\n",
    "\n",
    "    return x_op, y_op\n",
    "\n",
    "def chern_operator(syst, xy_op, vector, params=None, kpm_params=None, e_F=0,\n",
    "                 bounds=None):\n",
    "    \"\"\"Chern operator acting on `vector`\n",
    "    \"\"\"\n",
    "    if isinstance(syst, kwant.system.System):\n",
    "        ham = syst.hamiltonian_submatrix(params=params, sparse=True).tocsr()\n",
    "    else:\n",
    "        ham = syst\n",
    "\n",
    "    x_op, y_op = xy_op\n",
    "    x_op, y_op = x_op.tocoo(), y_op.tocoo()\n",
    "    x = lambda vec: x_op @ vec\n",
    "    y = lambda vec: y_op @ vec\n",
    "    pp = ft.partial(projector, kpm_params=kpm_params, ham=ham, e_F=e_F, bounds=bounds)\n",
    "    p = lambda vector: pp(vectors=vector)\n",
    "\n",
    "    p_vector = p(vector)\n",
    "    pypxp_vector = p(y(p(x(p_vector))))\n",
    "    pxpyp_vector = p(x(p(y(p_vector))))\n",
    "\n",
    "    return - 2j * np.pi * (pypxp_vector - pxpyp_vector)\n",
    "\n",
    "def chern_matrix_elements(syst, params=dict(), kpm_params=None, e_F=0, C_center=None,\n",
    "                             polarization1=None, polarization2=None, sum=True):\n",
    "    if kpm_params is None:\n",
    "        kpm_params = dict(num_moments=150)\n",
    "    if polarization1 is None:\n",
    "        polarization1 = np.eye(syst.sites[0].family.norbs)\n",
    "    if polarization2 is None:\n",
    "        polarization2 = np.eye(syst.sites[0].family.norbs)\n",
    "\n",
    "    if C_center is None:\n",
    "        center_vecs = np.array([local_vector(syst, (0, 0), polarization)\n",
    "                                for polarization in polarization1])\n",
    "        ham = syst.hamiltonian_submatrix(params=params, sparse=True)\n",
    "        xy_op = make_xy_op(syst)\n",
    "        C_center = chern_operator(ham, xy_op, center_vecs.T, kpm_params=kpm_params, e_F=e_F)\n",
    "    xs = np.unique([site.tag[0] for site in syst.sites])\n",
    "\n",
    "    mx_elements = np.array([C_center.conj().T @ np.array([local_vector(syst, (x, 0), polarization)\n",
    "                                                           for polarization in polarization2]).T for x in xs])\n",
    "\n",
    "    if sum:\n",
    "        overlaps = np.sum(np.abs(mx_elements), (1, 2))\n",
    "    else:\n",
    "        overlaps = mx_elements\n",
    "\n",
    "    xs = np.unique([site.pos[0] for site in syst.sites])\n",
    "    return xs, overlaps"
   ]
  },
  {
   "cell_type": "code",
   "execution_count": null,
   "metadata": {},
   "outputs": [],
   "source": [
    "%%time\n",
    "# Takes about 30 minutes\n",
    "kpm_params = dict(num_moments=5000)\n",
    "L = 40\n",
    "\n",
    "params = dict(m=-1, t1=1, t2=1)\n",
    "a_array = np.array([1, 0.5, 0.2, 0.1])\n",
    "\n",
    "res_c = []\n",
    "\n",
    "for a in a_array:\n",
    "    print(a)\n",
    "    syst = build_cont_system(a, L=L)\n",
    "    xs, C_overlaps = chern_matrix_elements(syst, params, e_F=0, kpm_params=kpm_params)\n",
    "    C_overlaps /= a**2\n",
    "    res_c.append([xs, C_overlaps])"
   ]
  },
  {
   "cell_type": "code",
   "execution_count": null,
   "metadata": {},
   "outputs": [],
   "source": [
    "pickle.dump(dict(params=params, \n",
    "                 a_array=a_array,\n",
    "                 e_F=0,\n",
    "                 L=L,\n",
    "                 res_c=np.array(res_c),\n",
    "                 num_moments=kpm_params['num_moments'],\n",
    "                ),\n",
    "            open('../data/chern_operator_scaling.pickle', 'wb'))"
   ]
  },
  {
   "cell_type": "markdown",
   "metadata": {},
   "source": [
    "### Make plot"
   ]
  },
  {
   "cell_type": "code",
   "execution_count": null,
   "metadata": {},
   "outputs": [],
   "source": [
    "data = pickle.load(open('../data/chern_operator_scaling.pickle', 'rb'))\n",
    "a_array = data['a_array']\n",
    "res_c = data['res_c']"
   ]
  },
  {
   "cell_type": "code",
   "execution_count": null,
   "metadata": {},
   "outputs": [],
   "source": [
    "plt.rc('text', usetex=True)\n",
    "plt.rcParams.update({'font.size': 10})\n",
    "plt.figure(figsize=(5, 3))\n",
    "for xs, overlaps in res_c:\n",
    "    plt.plot(xs, np.abs(overlaps))\n",
    "\n",
    "plt.legend(a_array)\n",
    "plt.xlabel(r\"$\\left(x-x'\\right)/\\xi$\")\n",
    "plt.ylabel(r\"$\\left|\\left\\langle x, y\\right| \\hat{C} \\left|x', y \\right\\rangle\\right|$\")\n",
    "plt.yscale('log')\n",
    "\n",
    "plt.tight_layout()\n",
    "plt.savefig('../manuscript/figures/chern_scaling.pdf')"
   ]
  },
  {
   "cell_type": "code",
   "execution_count": null,
   "metadata": {},
   "outputs": [],
   "source": []
  }
 ],
 "metadata": {
  "language_info": {
   "name": "python",
   "pygments_lexer": "ipython3"
  }
 },
 "nbformat": 4,
 "nbformat_minor": 2
}
