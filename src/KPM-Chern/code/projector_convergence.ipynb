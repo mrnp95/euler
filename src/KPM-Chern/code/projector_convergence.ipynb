{
 "cells": [
  {
   "cell_type": "code",
   "execution_count": null,
   "metadata": {},
   "outputs": [],
   "source": [
    "import numpy as np\n",
    "import kwant\n",
    "import hamiltonians\n",
    "import kpm_funcs\n",
    "from matplotlib import pyplot as plt\n",
    "\n",
    "import holoviews as hv\n",
    "hv.notebook_extension()"
   ]
  },
  {
   "cell_type": "code",
   "execution_count": null,
   "metadata": {},
   "outputs": [],
   "source": [
    "params = hamiltonians.chern_params"
   ]
  },
  {
   "cell_type": "code",
   "execution_count": null,
   "metadata": {},
   "outputs": [],
   "source": [
    "params"
   ]
  },
  {
   "cell_type": "code",
   "execution_count": null,
   "metadata": {},
   "outputs": [],
   "source": [
    "L = 41\n",
    "syst = hamiltonians.chern_insulator(L=L)\n",
    "ham = syst.hamiltonian_submatrix(params=params)"
   ]
  },
  {
   "cell_type": "code",
   "execution_count": null,
   "metadata": {},
   "outputs": [],
   "source": [
    "spectrum = kwant.kpm.SpectralDensity(ham)\n",
    "hv.Curve((spectrum.energies, spectrum.densities.real),\n",
    "         kdims='e', vdims='DOS [a.u.]', label='Density of states')"
   ]
  },
  {
   "cell_type": "code",
   "execution_count": null,
   "metadata": {},
   "outputs": [],
   "source": [
    "def exact_projector(ham):\n",
    "    evals, evecs = np.linalg.eigh(ham)\n",
    "    evecs = evecs[:, evals < 0]\n",
    "    return evecs.conj() @ evecs.T"
   ]
  },
  {
   "cell_type": "code",
   "execution_count": null,
   "metadata": {},
   "outputs": [],
   "source": [
    "# define local vectors\n",
    "\n",
    "vectors = np.array([v for v in kwant.kpm.LocalVectors(syst, where=lambda s: s.tag == [L//2, L//2])])"
   ]
  },
  {
   "cell_type": "code",
   "execution_count": null,
   "metadata": {},
   "outputs": [],
   "source": [
    "# define kpm projector\n",
    "\n",
    "kpm_params = dict(num_moments = 100)\n",
    "projector = kpm_funcs.build_projector(ham, vectors, kpm_params)\n",
    "projected_vectors = projector()"
   ]
  },
  {
   "cell_type": "code",
   "execution_count": null,
   "metadata": {},
   "outputs": [],
   "source": [
    "def vectors_density(vector, norbs=2):\n",
    "    vector = np.linalg.norm(vector.squeeze(), axis=0)\n",
    "    vector = sum([vector[i::norbs] for i in range(norbs)]) #sum over orbitals\n",
    "    return vector\n",
    "proj_density = vectors_density(projected_vectors)"
   ]
  },
  {
   "cell_type": "code",
   "execution_count": null,
   "metadata": {},
   "outputs": [],
   "source": [
    "# Plot the lattice and the density of a projected local vector \n",
    "kwant.plot(syst, site_size=0.5, site_color=proj_density, cmap='copper_r');"
   ]
  },
  {
   "cell_type": "code",
   "execution_count": null,
   "metadata": {},
   "outputs": [],
   "source": [
    "kpm_dens_10 = vectors_density(kpm_funcs.build_projector(ham, vectors, kpm_params=dict(num_moments=10))())\n",
    "kpm_dens_20 = vectors_density(kpm_funcs.build_projector(ham, vectors, kpm_params=dict(num_moments=20))())\n",
    "kpm_dens_40 = vectors_density(kpm_funcs.build_projector(ham, vectors, kpm_params=dict(num_moments=40))())"
   ]
  },
  {
   "cell_type": "code",
   "execution_count": null,
   "metadata": {},
   "outputs": [],
   "source": [
    "exact_projected_vector = (exact_projector(ham) @ vectors.T).T\n",
    "exact_density = vectors_density(exact_projected_vector)"
   ]
  },
  {
   "cell_type": "code",
   "execution_count": null,
   "metadata": {},
   "outputs": [],
   "source": [
    "xcut_args = [i for i, s in enumerate(syst.sites) if s.pos[1] == L//2]"
   ]
  },
  {
   "cell_type": "code",
   "execution_count": null,
   "metadata": {},
   "outputs": [],
   "source": [
    "plt.rcParams.update({'figure.autolayout': True})\n",
    "plt.rc('text', usetex=True)\n",
    "plt.rcParams.update({'font.size': 14})\n",
    "\n",
    "fig = plt.figure(figsize=(6,3))\n",
    "ax = fig.add_subplot(111)\n",
    "plt.setp(ax.spines.values(), linewidth=1.5)\n",
    "\n",
    "ax.tick_params(width=1.5)\n",
    "ax.tick_params(length=4.5)\n",
    "ax.spines['top'].set_visible(False)\n",
    "ax.spines['right'].set_visible(False)\n",
    "ax.spines['bottom'].set_visible(True)\n",
    "ax.spines['left'].set_visible(True)\n",
    "x_array = np.arange(L) - L//2\n",
    "plt.plot(x_array, exact_density[xcut_args], label=r'$M=\\infty$', c='k', lw=4)\n",
    "plt.plot(x_array, kpm_dens_10[xcut_args], label=r'$M=10$', c='C0', ls='-', lw=2)\n",
    "plt.plot(x_array, kpm_dens_20[xcut_args], label=r'$M=20$', c='C2', ls='-', lw=2)\n",
    "plt.plot(x_array, kpm_dens_40[xcut_args], label=r'$M=40$', c='C1', ls='-', lw=2)\n",
    "\n",
    "plt.yscale('log')\n",
    "plt.ylabel(r\"$\\left|\\left\\langle x_0, y_0\\right| \\hat{P} \\left|x, y_0 \\right\\rangle\\right|$\")\n",
    "plt.ylim(1e-6, 1)\n",
    "plt.xlabel(r'$x-x_0$')\n",
    "\n",
    "plt.legend(loc=(0.75, 0.45))\n",
    "plt.tight_layout()\n",
    "\n",
    "plt.savefig('../manuscript/figures/projector_convergence.pdf', bbox_inches = 'tight', pad_inches = 0.1)\n",
    "plt.show()"
   ]
  }
 ],
 "metadata": {
  "language_info": {
   "name": "python",
   "pygments_lexer": "ipython3"
  }
 },
 "nbformat": 4,
 "nbformat_minor": 2
}
