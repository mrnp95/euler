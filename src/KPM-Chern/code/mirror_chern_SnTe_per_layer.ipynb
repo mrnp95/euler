{
 "cells": [
  {
   "cell_type": "code",
   "execution_count": null,
   "metadata": {},
   "outputs": [],
   "source": [
    "import numpy as np\n",
    "import scipy\n",
    "import scipy.linalg as la\n",
    "import functools as ft\n",
    "import matplotlib.pyplot as plt\n",
    "import tinyarray as ta\n",
    "import kwant\n",
    "from concurrent.futures import ProcessPoolExecutor\n",
    "\n",
    "from hamiltonians import SnTe_6band\n",
    "from hamiltonians import SnTe_6band_params as SnTe_params\n",
    "from mirror_chern import mirror_chern, pg_op, M_cubic, UM_p\n",
    "\n",
    "from kpm_funcs import position_operator\n",
    "plt.rc('text', usetex=True)"
   ]
  },
  {
   "cell_type": "code",
   "execution_count": null,
   "metadata": {},
   "outputs": [],
   "source": [
    "from matplotlib import pyplot as plt\n",
    "\n",
    "import holoviews as hv\n",
    "hv.notebook_extension()"
   ]
  },
  {
   "cell_type": "markdown",
   "metadata": {},
   "source": [
    "## SnTe 6-band model Chern number"
   ]
  },
  {
   "cell_type": "markdown",
   "metadata": {},
   "source": [
    "### [001] surface"
   ]
  },
  {
   "cell_type": "code",
   "execution_count": null,
   "metadata": {},
   "outputs": [],
   "source": [
    "# Make a slab with PBC in one direction and open BC in the orthogonal directions\n",
    "\n",
    "# thickness (number of atomic layers - 1)\n",
    "W = 20\n",
    "L = 20\n",
    "\n",
    "# normal vector to the surface\n",
    "n = np.array([1, 1, 0])\n",
    "symm = kwant.lattice.TranslationalSymmetry(W * n)\n",
    "\n",
    "template = SnTe_6band()\n",
    "\n",
    "# add vectors perpendicular to the translational symmetry\n",
    "lat = next(iter(template.sites())).family # extract lattice family from the system\n",
    "symm.add_site_family(lat, other_vectors=[[1,-1,0], [0, 0, 2]])\n",
    "builder = kwant.Builder(symm)\n",
    "\n",
    "def shape(site):\n",
    "    tag = site.tag\n",
    "    return la.norm(tag - np.dot(tag, n) * n/np.dot(n, n)) <= L\n",
    "\n",
    "builder.fill(template, shape, start=np.zeros(3));\n",
    "syst = kwant.wraparound.wraparound(builder).finalized()"
   ]
  },
  {
   "cell_type": "markdown",
   "metadata": {},
   "source": [
    "#### Define mirror operator"
   ]
  },
  {
   "cell_type": "code",
   "execution_count": null,
   "metadata": {},
   "outputs": [],
   "source": [
    "# the position operators are rotated with respect to the normal axis \n",
    "x0, y0, z0 = position_operator(syst)\n",
    "\n",
    "x = 1/np.sqrt(2) * (x0 - y0)\n",
    "y = z0\n",
    "\n",
    "# Mirror with respect to the 110 normal\n",
    "M_trf = ft.partial(M_cubic, n=n)\n",
    "UM = UM_p(n)\n",
    "M = pg_op(syst, M_trf, UM)"
   ]
  },
  {
   "cell_type": "code",
   "execution_count": null,
   "metadata": {},
   "outputs": [],
   "source": [
    "fig = plt.figure();\n",
    "fig.set_tight_layout(True);\n",
    "\n",
    "ax = fig.add_subplot(1, 1, 1, projection='3d');\n",
    "ax.set_xlabel('x');\n",
    "ax.set_ylabel('y');\n",
    "ax.set_zlabel('z');\n",
    "ax.set_title('Slab of SnTe with {} sites'.format(len(syst.sites)));\n",
    "kwant.plotter.plot(syst, ax=ax, show=False);\n"
   ]
  },
  {
   "cell_type": "code",
   "execution_count": null,
   "metadata": {},
   "outputs": [],
   "source": [
    "params = SnTe_params.copy()\n",
    "params['k_x'] = 0 # set PBCs, without a phase through the boundaries\n",
    "params['mu'] = 0 # zero shift in the mass term\n",
    "m0 = 1.65 # mass term of Sn ions\n",
    "\n",
    "def m(site):\n",
    "    a = np.sum(site.tag) % 2\n",
    "    return 2 * a * m0 - m0\n",
    "\n",
    "params['m'] = m"
   ]
  },
  {
   "cell_type": "code",
   "execution_count": null,
   "metadata": {},
   "outputs": [],
   "source": [
    "# calculate the density of states\n",
    "\n",
    "spectrum = kwant.kpm.SpectralDensity(syst, params=params, num_moments=500, num_vectors=1)\n",
    "plot_dos = hv.Curve((spectrum.energies, spectrum.densities.real),\n",
    "                    kdims='e', vdims='DOS [a.u.]', label='Density of states')\n",
    "plot_dos + plot_dos.relabel('Detail of the density of states')[-1:1]"
   ]
  },
  {
   "cell_type": "code",
   "execution_count": null,
   "metadata": {},
   "outputs": [],
   "source": [
    "# choose an energy resolution and set the number of moments\n",
    "dE = 0.01\n",
    "num_moments = int((spectrum.bounds[1] - spectrum.bounds[0]) / (dE * np.pi))\n",
    "print('number of moments necessary to resolve the gap:', num_moments)\n",
    "kpm_params=dict(num_moments=200)"
   ]
  },
  {
   "cell_type": "markdown",
   "metadata": {},
   "source": [
    "### random vectors, no distinction of layers"
   ]
  },
  {
   "cell_type": "code",
   "execution_count": null,
   "metadata": {},
   "outputs": [],
   "source": [
    "# Define random vectors per layer parallel to the mirror plane\n",
    "# inside a disk of half radius\n",
    "half_width = W / 2\n",
    "area = half_width ** 2 * np.pi\n",
    "\n",
    "def disk(site):\n",
    "    pos = np.array(site.pos)\n",
    "    return la.norm(pos - pos.dot(n) * n/n.dot(n)) <= half_width\n",
    "\n",
    "vector_factory = kwant.kpm.RandomVectors(syst, where=disk)\n",
    "# we must define the number of vectors for this infinite generator\n",
    "num_vectors = 10\n",
    "vectors = [next(vector_factory) for i in range(num_vectors)]"
   ]
  },
  {
   "cell_type": "code",
   "execution_count": null,
   "metadata": {},
   "outputs": [],
   "source": [
    "def mirror_chern_per_vector(vector):\n",
    "    return mirror_chern(syst, x, y, Mz=M, vectors=[vector], e_F=0,\n",
    "                      params=params, window=None, return_std=False)"
   ]
  },
  {
   "cell_type": "code",
   "execution_count": null,
   "metadata": {},
   "outputs": [],
   "source": [
    "%%time\n",
    "\n",
    "with ProcessPoolExecutor(max_workers=24) as executor:\n",
    "    this_c = executor.map(mirror_chern_per_vector, vectors)\n",
    "    \n",
    "this_c = np.array(list(this_c))"
   ]
  },
  {
   "cell_type": "code",
   "execution_count": null,
   "metadata": {},
   "outputs": [],
   "source": [
    "print('mirror Chern number:', np.mean(this_c) / area)\n",
    "print('std from random vectors:', np.std(this_c) / area)"
   ]
  },
  {
   "cell_type": "markdown",
   "metadata": {},
   "source": [
    "### random vectors per layer"
   ]
  },
  {
   "cell_type": "code",
   "execution_count": null,
   "metadata": {},
   "outputs": [],
   "source": [
    "half_width = L / 2\n",
    "area = half_width ** 2 * np.pi\n",
    "\n",
    "num_vectors = 10\n",
    "\n",
    "z_array = np.arange(int(n.dot(n)) * W)\n",
    "vectors = []\n",
    "for z in z_array:\n",
    "\n",
    "    def disk(site):\n",
    "        pos = np.array(site.pos)\n",
    "        return la.norm(pos - pos.dot(n) * n/n.dot(n)) <= half_width and pos.dot(n) == z\n",
    "\n",
    "    vector_factory = kwant.kpm.RandomVectors(syst, where=disk)\n",
    "    # we must define the number of vectors for this infinite generator\n",
    "    vectors.extend([next(vector_factory) for i in range(num_vectors)])\n",
    "len(vectors)"
   ]
  },
  {
   "cell_type": "code",
   "execution_count": null,
   "metadata": {},
   "outputs": [],
   "source": [
    "%%time\n",
    "\n",
    "with ProcessPoolExecutor(max_workers=24) as executor:\n",
    "    C_list = executor.map(mirror_chern_per_vector, vectors)"
   ]
  },
  {
   "cell_type": "code",
   "execution_count": null,
   "metadata": {},
   "outputs": [],
   "source": [
    "c_layer = np.array(list(C_list)).reshape(len(z_array), num_vectors)"
   ]
  },
  {
   "cell_type": "code",
   "execution_count": null,
   "metadata": {},
   "outputs": [],
   "source": [
    "c_mean = np.mean(c_layer, axis=1) / area\n",
    "c_std = np.std(c_layer, axis=1) / area"
   ]
  },
  {
   "cell_type": "code",
   "execution_count": null,
   "metadata": {},
   "outputs": [],
   "source": [
    "%%opts Overlay [fig_size=120 fontsize=12 legend_position='top_right']\n",
    "%%opts Spread [show_legend=True]\n",
    "\n",
    "plot_mc = (hv.Curve((z_array, c_mean), label=r'$\\rho(C_M)$') *\n",
    " hv.Spread((z_array, c_mean, c_std), label=r'$\\sigma(\\rho(C_M))$')\n",
    ").relabel('Mirror Chern number density per layer').redim(x='layer position', y=r'$\\rho(C_M)$')\n",
    "plot_mc"
   ]
  },
  {
   "cell_type": "code",
   "execution_count": null,
   "metadata": {},
   "outputs": [],
   "source": [
    "half_width = L / 2\n",
    "area = half_width ** 2 * np.pi"
   ]
  },
  {
   "cell_type": "code",
   "execution_count": null,
   "metadata": {},
   "outputs": [],
   "source": [
    "print('Mirror Chern number (sum of contributions per layer): %2.2f' % (np.sum(c_mean)))\n",
    "print('std from random vectors per layer: %2.2f' % (np.sqrt(np.sum(c_std**2))))"
   ]
  },
  {
   "cell_type": "code",
   "execution_count": null,
   "metadata": {},
   "outputs": [],
   "source": [
    "plt.figure(figsize=(4, 3))\n",
    "plt.plot(z_array, c_mean)\n",
    "plt.fill_between(z_array, c_mean+c_std, c_mean-c_std, alpha=0.5)\n",
    "plt.ylabel(r'$C_M(z)$')\n",
    "plt.xlabel(r'$z$')\n",
    "plt.tight_layout()\n",
    "plt.savefig('../manuscript/figures/mirror_chern_layer.pdf')"
   ]
  },
  {
   "cell_type": "code",
   "execution_count": null,
   "metadata": {},
   "outputs": [],
   "source": []
  }
 ],
 "metadata": {
  "language_info": {
   "name": "python",
   "pygments_lexer": "ipython3"
  }
 },
 "nbformat": 4,
 "nbformat_minor": 2
}
