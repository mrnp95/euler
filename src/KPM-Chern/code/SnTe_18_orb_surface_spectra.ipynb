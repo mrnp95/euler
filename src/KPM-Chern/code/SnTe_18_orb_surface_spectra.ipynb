{
 "cells": [
  {
   "cell_type": "code",
   "execution_count": null,
   "metadata": {},
   "outputs": [],
   "source": [
    "import numpy as np\n",
    "import scipy\n",
    "import scipy.linalg as la\n",
    "import functools as ft\n",
    "import matplotlib.pyplot as plt\n",
    "import tinyarray as ta\n",
    "import kwant\n",
    "import matplotlib.pyplot as plt\n",
    "import pickle\n",
    "\n",
    "from hamiltonians import SnTe_18band_disorder, site_type, SnPbTe_params\n",
    "from spectral_functions import surface_dos"
   ]
  },
  {
   "cell_type": "markdown",
   "metadata": {},
   "source": [
    "# Calculate surface spectral functions of disordered slabs with PBC in x and y"
   ]
  },
  {
   "cell_type": "code",
   "execution_count": null,
   "metadata": {},
   "outputs": [],
   "source": [
    "import hpc05"
   ]
  },
  {
   "cell_type": "code",
   "execution_count": null,
   "metadata": {},
   "outputs": [],
   "source": [
    "hpc05.kill_remote_ipcluster()"
   ]
  },
  {
   "cell_type": "code",
   "execution_count": null,
   "metadata": {},
   "outputs": [],
   "source": [
    "client, dview, lview = hpc05.start_remote_and_connect(11, profile='pbs_32GB', timeout=600,\n",
    "                                                      env_path='~/.conda/envs/kwant_dev',\n",
    "                                                      folder='~/disorder_invariants/code/',\n",
    "                                                     )"
   ]
  },
  {
   "cell_type": "code",
   "execution_count": null,
   "metadata": {},
   "outputs": [],
   "source": [
    "%%px --local\n",
    "import itertools as it\n",
    "import scipy\n",
    "import scipy.linalg as la\n",
    "import numpy as np\n",
    "import copy\n",
    "import functools as ft\n",
    "import pickle\n",
    "import tinyarray as ta\n",
    "\n",
    "import kwant\n",
    "from hamiltonians import SnTe_18band_disorder, site_type, SnPbTe_params\n",
    "from spectral_functions import surface_dos"
   ]
  },
  {
   "cell_type": "code",
   "execution_count": null,
   "metadata": {},
   "outputs": [],
   "source": [
    "%%px --local\n",
    "salt = '0'\n",
    "\n",
    "# Make a slab with PBC in x and y\n",
    "Lx = Ly = 80\n",
    "Lz = 20\n",
    "Ls = ta.array([Lx, Ly, Lz])\n",
    "\n",
    "num_moments = 4000\n",
    "energies = np.linspace(-1, 1, 1001)\n",
    "\n",
    "d = 1\n",
    "# surface layer\n",
    "window = lambda pos: pos[2] >= Ls[2]/2 - d + 0.5\n",
    "# slab\n",
    "shape = lambda site: -Ls[2]/2 < site.pos[2] <= Ls[2]/2\n",
    "\n",
    "@ft.lru_cache(maxsize=1)\n",
    "def make_syst(Ls, doping, salt):\n",
    "    Lx, Ly, Lz = Ls\n",
    "    syst = SnTe_18band_disorder()\n",
    "\n",
    "    # Build film using syst\n",
    "    film = kwant.Builder(kwant.lattice.TranslationalSymmetry([Lx, 0, 0], [0, Ly, 0]))\n",
    "\n",
    "    film.fill(syst, shape, start=np.zeros(3));\n",
    "    filmw = kwant.wraparound.wraparound(film)   \n",
    "    filmw = filmw.finalized()\n",
    "\n",
    "    pars = SnPbTe_params.copy()\n",
    "\n",
    "    pars['site_type'] = ft.partial(site_type, doping=doping, n=None, to_fd=None, salt=salt)\n",
    "    pars['k_x'] = pars['k_y'] = pars['k_z'] = 0\n",
    "    \n",
    "    return filmw, pars\n",
    "\n",
    "def job(k, n=ta.array([1, 1, 0])/np.sqrt(2)):\n",
    "    filmw, pars = make_syst(Ls, doping, salt)\n",
    "    print(k, end='\\r')\n",
    "    \n",
    "    sf = surface_dos(filmw,\n",
    "                     k * n,\n",
    "                     pars,\n",
    "                     supercell=np.diag(Ls),\n",
    "                     pos_transform=None,\n",
    "                     num_moments=num_moments,\n",
    "                     bounds=None,\n",
    "                     window=window)\n",
    "    return sf(energies)"
   ]
  },
  {
   "cell_type": "code",
   "execution_count": null,
   "metadata": {},
   "outputs": [],
   "source": [
    "%%px --local\n",
    "doping = 0.8"
   ]
  },
  {
   "cell_type": "code",
   "execution_count": null,
   "metadata": {},
   "outputs": [],
   "source": [
    "# %%time\n",
    "ks = np.linspace(1.5, np.pi/np.sqrt(2), 101)\n",
    "result = lview.map_async(job, ks)"
   ]
  },
  {
   "cell_type": "code",
   "execution_count": null,
   "metadata": {},
   "outputs": [],
   "source": [
    "result.wait_interactive()"
   ]
  },
  {
   "cell_type": "code",
   "execution_count": null,
   "metadata": {},
   "outputs": [],
   "source": [
    "res = result.get()\n",
    "spec_func = np.array(res).T.real\n",
    "plt.figure(figsize=(20,10))\n",
    "plt.imshow(spec_func,\n",
    "           # vmin=0, vmax=200,\n",
    "           extent=(ks[0], ks[-1], energies[0], energies[-1]),\n",
    "           # aspect=1/2, \n",
    "           origin='lower',\n",
    "           \n",
    "           )\n",
    "plt.colorbar()"
   ]
  },
  {
   "cell_type": "code",
   "execution_count": null,
   "metadata": {},
   "outputs": [],
   "source": [
    "pickle.dump(dict(\n",
    "                doping=doping,\n",
    "                spec_func=spec_func,\n",
    "                Lx=Lx,\n",
    "                Ly=Ly,\n",
    "                Lz=Lz,\n",
    "                salt=salt,\n",
    "                num_moments=num_moments,\n",
    "                ),\n",
    "            open('../data/SnTe_18_orb_specfunc_'+str(Lx)+'x'+str(Ly)+'x'+str(Lz)+'_'+str(doping)+'.pickle', 'wb'))"
   ]
  }
 ],
 "metadata": {
  "language_info": {
   "name": "python",
   "pygments_lexer": "ipython3"
  }
 },
 "nbformat": 4,
 "nbformat_minor": 2
}
