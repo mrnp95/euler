{
 "cells": [
  {
   "cell_type": "code",
   "execution_count": null,
   "metadata": {},
   "outputs": [],
   "source": [
    "import numpy as np\n",
    "import scipy\n",
    "import scipy.linalg as la\n",
    "import functools as ft\n",
    "import matplotlib.pyplot as plt\n",
    "import tinyarray as ta\n",
    "import kwant\n",
    "import matplotlib.pyplot as plt\n",
    "import pickle\n",
    "from inspect import getsource\n",
    "print(kwant.__version__)\n",
    "\n",
    "\n",
    "from lcao import L_matrices, lcao_term\n",
    "from hamiltonians import sigmas"
   ]
  },
  {
   "cell_type": "markdown",
   "metadata": {},
   "source": [
    "# Calculations for 18 orbital SnPbTe"
   ]
  },
  {
   "cell_type": "code",
   "execution_count": null,
   "metadata": {},
   "outputs": [],
   "source": [
    "import hpc05"
   ]
  },
  {
   "cell_type": "code",
   "execution_count": null,
   "metadata": {},
   "outputs": [],
   "source": [
    "hpc05.kill_remote_ipcluster()"
   ]
  },
  {
   "cell_type": "code",
   "execution_count": null,
   "metadata": {},
   "outputs": [],
   "source": [
    "client, dview, lview = hpc05.start_remote_and_connect(26, profile='pbs_32GB', timeout=600,\n",
    "                                                      env_path='/home/dvarjas/.conda/envs/kwant_dev',\n",
    "                                                      folder='~/disorder_invariants/code/',\n",
    "                                                      # kill_old_ipcluster=False,\n",
    "                                                     )"
   ]
  },
  {
   "cell_type": "code",
   "execution_count": null,
   "metadata": {},
   "outputs": [],
   "source": [
    "%%px --local\n",
    "import itertools as it\n",
    "import scipy\n",
    "import scipy.linalg as la\n",
    "import numpy as np\n",
    "import copy\n",
    "import functools as ft\n",
    "import pickle\n",
    "\n",
    "# from scipy.integrate import cumtrapz\n",
    "# from scipy.interpolate import interp1d\n",
    "# from scipy.optimize import brentq\n",
    "\n",
    "import kwant\n",
    "print(kwant.__version__)\n",
    "pickle.dump(kwant.__version__, open('version.pickle', 'wb'))\n",
    "# assert kwant.__version__ == '1.4.0a1.dev57+g402a0ca'\n",
    "from hamiltonians import SnTe_18band_disorder, site_type, SnPbTe_params\n",
    "from mirror_chern import mirror_chern, make_window, random_phase_vecs, pg_op, M_cubic, UM_spd\n",
    "from kpm_funcs import position_operator"
   ]
  },
  {
   "cell_type": "code",
   "execution_count": null,
   "metadata": {},
   "outputs": [],
   "source": [
    "%%px --local\n",
    "# Make a slab with PBC\n",
    "# surface normal\n",
    "n = np.array([1, 1, 0])\n",
    "n11 = np.array([1, -1, 0])\n",
    "nz = np.array([0, 0, 1])\n",
    "# thickness (number of atomic layers - 1)\n",
    "W = 40\n",
    "L11 = 80\n",
    "Lz = 120\n",
    "\n",
    "num_vectors = 5\n",
    "num_moments = 5000\n",
    "\n",
    "salts = range(6, 12)\n",
    "num_x = 26\n",
    "x_array = np.linspace(0, 1, num_x)\n",
    "\n",
    "# Set Fermi level based on half filling. Integration is inaccurate unless \n",
    "# many moments are used in the spectrum, which is expensive.\n",
    "# def set_fermi_level(spectrum, filling):\n",
    "#     energies = spectrum.energies\n",
    "#     cum_DoS = cumtrapz(spectrum(energies), energies, initial=0)\n",
    "#     total = spectrum.integrate()\n",
    "#     f = interp1d(energies, cum_DoS - total * filling, kind='quadratic')\n",
    "#     return brentq(f, min(energies), max(energies))\n",
    "\n",
    "def set_fermi_level(doping):\n",
    "    # Set Fermi level manually, see DoS plot.\n",
    "    return 0.135 + 0.09 * doping - 0.13 * doping**2\n",
    "\n",
    "\n",
    "def make_operators(doping, salt='salt'):\n",
    "    syst = SnTe_18band_disorder()\n",
    "\n",
    "    # Build film using syst\n",
    "    film = kwant.Builder(kwant.lattice.TranslationalSymmetry(W * n, L11 * n11, Lz * nz))\n",
    "\n",
    "    film.fill(syst, lambda site: True, start=np.zeros(3));\n",
    "    filmw = kwant.wraparound.wraparound(film)   \n",
    "    filmw = filmw.finalized()\n",
    "\n",
    "    M_trf = ft.partial(M_cubic, n=n)\n",
    "    UM = UM_spd(n)\n",
    "    M = pg_op(filmw, M_trf, UM)\n",
    "\n",
    "    pars = SnPbTe_params.copy()\n",
    "    # to_fd = filmw._wrapped_symmetry.to_fd\n",
    "\n",
    "    # window half the size\n",
    "    win_L11 = L11//2\n",
    "    win_Lz = Lz//2\n",
    "    A = win_L11 * win_Lz * np.sqrt(2)\n",
    "\n",
    "    # Make it periodic with the size of the window\n",
    "    to_fd = kwant.lattice.TranslationalSymmetry(W * n, win_L11 * n11, win_Lz * nz).to_fd\n",
    "\n",
    "    pars['site_type'] = ft.partial(site_type, doping=doping, n=n, to_fd=to_fd, salt=salt)\n",
    "    pars['k_x'] = pars['k_y'] = pars['k_z'] = 0\n",
    "\n",
    "    H = filmw.hamiltonian_submatrix(params=pars, sparse=True)\n",
    "    ham_size = H.shape[0]\n",
    "    norbs = filmw.sites[0].family.norbs\n",
    "\n",
    "    x0, y0, z0 = position_operator(filmw)\n",
    "    x = 1/np.sqrt(2) * (x0 - y0)\n",
    "    y = z0\n",
    "\n",
    "    def shape1(site):\n",
    "        tag = site.tag\n",
    "        tag11 = np.dot(tag, n11) // np.dot(n11, n11)\n",
    "        tagz = np.dot(tag, nz) // np.dot(nz, nz)\n",
    "        tagn = (np.dot(tag, n) % (W * n.dot(n))) // np.dot(n, n)\n",
    "        return (-win_L11/2 + L11/2 < tag11 <= win_L11/2 + L11/2 and\n",
    "                -win_Lz/2 + Lz/2 < tagz <= win_Lz/2 + Lz/2 and\n",
    "                tagn < W//2)\n",
    "    window1 = make_window(filmw, shape1)\n",
    "    \n",
    "    def shape2(site):\n",
    "        tag = site.tag\n",
    "        tag11 = np.dot(tag, n11) // np.dot(n11, n11)\n",
    "        tagz = np.dot(tag, nz) // np.dot(nz, nz)\n",
    "        tagn = (np.dot(tag, n) % (W * n.dot(n))) // np.dot(n, n)\n",
    "        return (-win_L11/2 + L11/2 < tag11 <= win_L11/2 + L11/2 and\n",
    "                -win_Lz/2 + Lz/2 < tagz <= win_Lz/2 + Lz/2 and\n",
    "                tagn >= W//2)\n",
    "    window2 = make_window(filmw, shape2)\n",
    "\n",
    "    return H, M, x, y, [window1, window2], pars, A\n",
    "    \n",
    "\n",
    "def job(doping, salt='salt'):\n",
    "    salt = str(salt)\n",
    "    print(doping)\n",
    "    \n",
    "    H, M, x, y, windows, pars, A = make_operators(doping, salt)\n",
    "    \n",
    "    # spectrum = kwant.kpm.SpectralDensity(H, num_moments=num_moments, params=pars)\n",
    "    # filling = 5/18\n",
    "    # e_F = set_fermi_level(spectrum, filling)\n",
    "    e_F = set_fermi_level(doping)\n",
    "    # filling = spectrum.integrate(lambda x: x < e_F) / spectrum.integrate()\n",
    "    # mindos = spectrum(e_F)\n",
    "\n",
    "    C_list = [mirror_chern(H, x, y, Mz=M, vectors=num_vectors,\n",
    "                          e_F=e_F, kpm_params=dict(num_moments=num_moments),\n",
    "                          params=pars, bounds=None, window=window, return_std=False)\n",
    "              for window in windows]\n",
    "\n",
    "    C_list = np.array(C_list)\n",
    "    Cs = np.sum(C_list, axis=0) / A\n",
    "    C = np.mean(Cs)\n",
    "    C_std = np.std(Cs)\n",
    "    pickle.dump(dict(params=SnPbTe_params, \n",
    "                 doping=doping,\n",
    "                 e_F=e_F,\n",
    "                 W=W,\n",
    "                 L11=L11,\n",
    "                 Lz=Lz,\n",
    "                 salt=salt,\n",
    "                 Cs=Cs,\n",
    "                 num_vectors=num_vectors,\n",
    "                 num_moments=num_moments,),\n",
    "            open('disorder_invariants/data/SnTe18_MC_'+str(W)+'x'+str(L11)+'x'+str(Lz)\n",
    "                 +'/Mirror_Chern_doped_SnTe_18band_eff_'+str(salt)+'_'+str(doping)+'.pickle', 'wb'))\n",
    "    print(C, C_std)\n",
    "    return C, C_std, # filling, e_F, mindos"
   ]
  },
  {
   "cell_type": "code",
   "execution_count": null,
   "metadata": {},
   "outputs": [],
   "source": [
    "# omit combinations that were already used\n",
    "salts = range(0, 7)\n",
    "_, existing = get_data('data/SnTe18_MC_'+str(W)+'x'+str(L11)+'x'+str(Lz)+'.pickle')\n",
    "xss = [(x, s) for s, x in it.product(salts, x_array) if not str(s) in existing[x]]\n",
    "len(xss)"
   ]
  },
  {
   "cell_type": "code",
   "execution_count": null,
   "metadata": {},
   "outputs": [],
   "source": [
    "result = lview.map_async(job, *zip(*xss))"
   ]
  },
  {
   "cell_type": "code",
   "execution_count": null,
   "metadata": {},
   "outputs": [],
   "source": [
    "result.wait_interactive()"
   ]
  },
  {
   "cell_type": "code",
   "execution_count": null,
   "metadata": {},
   "outputs": [],
   "source": [
    "all([err is None for err in result.error])"
   ]
  },
  {
   "cell_type": "markdown",
   "metadata": {},
   "source": [
    "### Organize results"
   ]
  },
  {
   "cell_type": "code",
   "execution_count": null,
   "metadata": {},
   "outputs": [],
   "source": [
    "directories = ! ls -d ../data/SnTe18_MC_*/\n",
    "\n",
    "for directory in directories:\n",
    "    # ! rsync -rP hpc05:disorder_invariants/code/{directory} data/\n",
    "    size = directory.split('SnTe18_MC_')[-1]\n",
    "    size = size.split('/')[0]\n",
    "    data = defaultdict(list)\n",
    "    try:\n",
    "        old_data = pickle.load(open(directory[:-1] + '.pickle', 'rb'))\n",
    "    except:\n",
    "        pass\n",
    "    else:\n",
    "        data.update(old_data)\n",
    "    num_moments = None\n",
    "    files = ! ls {directory}Mirror_Chern_doped_SnTe_18band_eff*\n",
    "    for file in files:\n",
    "        dat = pickle.load(open(file, 'rb'))\n",
    "        W, L11, Lz = size.split('x')\n",
    "        doping = dat['doping']\n",
    "        salt = dat['salt']\n",
    "        if not (dat['L11'] == int(L11) and dat['L11'] == int(L11) and dat['Lz'] == int(Lz) and\n",
    "                (num_moments is None or dat['num_moments'] == num_moments) and\n",
    "                np.isclose(dat['e_F'], set_fermi_level(doping))):\n",
    "            assert False\n",
    "        Cs = list(dat['Cs'])\n",
    "        # print(directory, (doping, salt) )\n",
    "        if (not (doping, salt) in data) or (not Cs[0] in data[(doping, salt)]):\n",
    "            data[(doping, salt)] += Cs\n",
    "        num_moments = dat['num_moments']\n",
    "    data['num_moments'] = num_moments\n",
    "    data['set_fermi_level'] = getsource(set_fermi_level)\n",
    "    data['W'] = W\n",
    "    data['L11'] = L11\n",
    "    data['Lz'] = Lz\n",
    "    pickle.dump(data, open(directory[:-1] + '.pickle', 'wb'))"
   ]
  },
  {
   "cell_type": "markdown",
   "metadata": {},
   "source": [
    "## DoS"
   ]
  },
  {
   "cell_type": "code",
   "execution_count": null,
   "metadata": {},
   "outputs": [],
   "source": [
    "%%px --local\n",
    "# Make a slab with PBC\n",
    "# surface normal\n",
    "n = np.array([1, 1, 0])\n",
    "n11 = np.array([1, -1, 0])\n",
    "nz = np.array([0, 0, 1])\n",
    "\n",
    "# thickness (number of atomic layers - 1)\n",
    "W = 40\n",
    "L11 = 40\n",
    "Lz = 60\n",
    "\n",
    "num_vectors = 5\n",
    "num_moments = 5000\n",
    "\n",
    "num_x = 26\n",
    "x_array = np.linspace(0, 1, num_x)\n",
    "\n",
    "def job2(doping):\n",
    "    print(doping)\n",
    "    \n",
    "    syst = SnTe_18band_disorder()\n",
    "\n",
    "    # Build film using syst\n",
    "    film = kwant.Builder(kwant.lattice.TranslationalSymmetry(W * n, L11 * n11, Lz * nz))\n",
    "\n",
    "    film.fill(syst, lambda site: True, start=np.zeros(3));\n",
    "    filmw = kwant.wraparound.wraparound(film)   \n",
    "    filmw = filmw.finalized()\n",
    "\n",
    "    pars = SnPbTe_params.copy()\n",
    "    to_fd = filmw._wrapped_symmetry.to_fd\n",
    "\n",
    "    pars['site_type'] = ft.partial(site_type, doping=doping, n=n, to_fd=to_fd, salt='salt')\n",
    "    pars['k_x'] = pars['k_y'] = pars['k_z'] = 0\n",
    "    \n",
    "    spectrum = kwant.kpm.SpectralDensity(filmw, num_moments=num_moments, params=pars)\n",
    "\n",
    "    return spectrum()"
   ]
  },
  {
   "cell_type": "code",
   "execution_count": null,
   "metadata": {},
   "outputs": [],
   "source": [
    "result = lview.map_async(job2, x_array)"
   ]
  },
  {
   "cell_type": "code",
   "execution_count": null,
   "metadata": {},
   "outputs": [],
   "source": [
    "result.wait_interactive()"
   ]
  },
  {
   "cell_type": "code",
   "execution_count": null,
   "metadata": {},
   "outputs": [],
   "source": [
    "all([err is None for err in result.error])"
   ]
  },
  {
   "cell_type": "code",
   "execution_count": null,
   "metadata": {},
   "outputs": [],
   "source": [
    "spec_vs_x = np.array(result.get())"
   ]
  },
  {
   "cell_type": "code",
   "execution_count": null,
   "metadata": {},
   "outputs": [],
   "source": [
    "pickle.dump(dict(params=SnPbTe_params,\n",
    "                 x_array=x_array,\n",
    "                 W=W, L11=L11, Lz=Lz,\n",
    "                 num_moments=num_moments,\n",
    "                 disorder_realizations=1,\n",
    "                 spec_vs_x=spec_vs_x,\n",
    "                 ),\n",
    "           open('../data/DoS_SnPbTe18.pickle', 'wb'))"
   ]
  },
  {
   "cell_type": "code",
   "execution_count": null,
   "metadata": {},
   "outputs": [],
   "source": [
    "plt.figure(figsize=(5, 5))\n",
    "for i, (es, doss) in enumerate(spec_vs_x):\n",
    "    plt.plot(es, doss.real + 10000*x_array[i], c='k')\n",
    "    # plt.plot([0.13 + 0.06 * x_array[i] - 0.08 * x_array[i]**2], [10000*x_array[i]], '.', c='r')\n",
    "plt.plot(0.135 + 0.09 * x_array - 0.13 * x_array**2, 10000*x_array, '-', c='r')\n",
    "# plt.plot(0.05 + 0.1 * x_array - 0.0 * x_array**2, 10000*x_array, '-', c='b')\n",
    "# plt.plot(0.22 + 0.08 * x_array - 0.26 * x_array**2, 10000*x_array, '-', c='b')\n",
    "plt.xlim(-0.1, 0.4)\n",
    "plt.ylim(-100, 12000)"
   ]
  }
 ],
 "metadata": {
  "language_info": {
   "name": "python",
   "pygments_lexer": "ipython3"
  }
 },
 "nbformat": 4,
 "nbformat_minor": 2
}
